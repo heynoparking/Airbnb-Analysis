{
 "cells": [
  {
   "cell_type": "markdown",
   "metadata": {},
   "source": [
    "# Search analytics of interest for Airbnb in Taiwan"
   ]
  },
  {
   "cell_type": "markdown",
   "metadata": {},
   "source": [
    "<font face=\"Terminal\"> Author: Yurou Wang  <br>\n",
    "        Last updated: 6th August 2018 </font>"
   ]
  },
  {
   "cell_type": "markdown",
   "metadata": {},
   "source": [
    "## Introduction"
   ]
  },
  {
   "cell_type": "markdown",
   "metadata": {},
   "source": [
    "How much are people intersted in Airbnb? \n",
    "\n",
    "The “sharing economy” concept has been embraced by governments, entrepreneurs and commentators as delivering new forms of opportunity for local and national economies.Accommodation-sharing platform Airbnb is often considered a sharing economy exemplar, and has promoted itself as helping middle-class residents to gain and retain a foothold in expensive housing markets.Besides,Airbnb is one of the largest hospitality brands in the world hosting thousands of travelers every day. But at June 13th, Taiwan News published a article : Taiwan is gunning for 'unlicensed rentals' with AirBnB in its crosshairs.It showed that the Taiwan government are poised to start cracking down on businesses that provide “unlicensed” accommodation across the country. It must contributes to the thriving growing economy of economy of small-scale accommodation providers and Taiwan’s tourism industry. Based on this situation, I wonder the interest trend of Airbnb in Taiwan in the past and future, and do this sort of analysis using Python and API of Google Trend."
   ]
  },
  {
   "cell_type": "markdown",
   "metadata": {},
   "source": [
    "This article will both show the analysis, the graphs of data and my perspective on it.  <br>\n",
    "We will:  <br> <br>\n",
    "    ・ explore the interest trend of Airbnb in Taiwan in these years via the keyword searched most as shown on interest section.   <br>\n",
    "    ・ explore the interest level of different region in Taiwan via the keyword searched most as shown on region section.   <br>\n",
    "    ・ observe what time people search the keyword most in a day.   <br>"
   ]
  },
  {
   "cell_type": "markdown",
   "metadata": {},
   "source": [
    "## 0. Imports that allow the Python code to work"
   ]
  },
  {
   "cell_type": "markdown",
   "metadata": {},
   "source": [
    "We begin by loading a few modules. The special modules might be installed is pytrend, which is a api of Google Tread for automating downloading of reports from Google Trend. Also, for this analysis, I using the matplotlib to visualizes data."
   ]
  },
  {
   "cell_type": "code",
   "execution_count": 8,
   "metadata": {},
   "outputs": [],
   "source": [
    "from pytrends.request import TrendReq\n",
    "import matplotlib.pyplot as plt\n",
    "import json\n",
    "import pandas\n",
    "import seaborn as sns\n",
    "import numpy"
   ]
  },
  {
   "cell_type": "markdown",
   "metadata": {},
   "source": [
    "## 1. Explore the Interest Trend of Airbnb in these years"
   ]
  },
  {
   "cell_type": "markdown",
   "metadata": {},
   "source": [
    "The heart of the analysis will be figuring out how much people are interest in Airbnb. As a first pass, I use the interest_over_time function and have the words “Airbnb” compared with “Booking.com” which is the traditional hostel accommodation platform to obtain the data about degree of different types of travel accommodation and how much people are interested in it from 2012.\n"
   ]
  },
  {
   "cell_type": "code",
   "execution_count": 29,
   "metadata": {},
   "outputs": [
    {
     "data": {
      "text/html": [
       "<div>\n",
       "<style scoped>\n",
       "    .dataframe tbody tr th:only-of-type {\n",
       "        vertical-align: middle;\n",
       "    }\n",
       "\n",
       "    .dataframe tbody tr th {\n",
       "        vertical-align: top;\n",
       "    }\n",
       "\n",
       "    .dataframe thead th {\n",
       "        text-align: right;\n",
       "    }\n",
       "</style>\n",
       "<table border=\"1\" class=\"dataframe\">\n",
       "  <thead>\n",
       "    <tr style=\"text-align: right;\">\n",
       "      <th></th>\n",
       "      <th>YY-MM</th>\n",
       "      <th>Airbnb</th>\n",
       "      <th>Booking.com</th>\n",
       "    </tr>\n",
       "  </thead>\n",
       "  <tbody>\n",
       "    <tr>\n",
       "      <th>0</th>\n",
       "      <td>12-01</td>\n",
       "      <td>1</td>\n",
       "      <td>4</td>\n",
       "    </tr>\n",
       "    <tr>\n",
       "      <th>1</th>\n",
       "      <td>12-02</td>\n",
       "      <td>1</td>\n",
       "      <td>6</td>\n",
       "    </tr>\n",
       "    <tr>\n",
       "      <th>2</th>\n",
       "      <td>12-03</td>\n",
       "      <td>2</td>\n",
       "      <td>6</td>\n",
       "    </tr>\n",
       "    <tr>\n",
       "      <th>3</th>\n",
       "      <td>12-04</td>\n",
       "      <td>2</td>\n",
       "      <td>6</td>\n",
       "    </tr>\n",
       "    <tr>\n",
       "      <th>4</th>\n",
       "      <td>12-05</td>\n",
       "      <td>2</td>\n",
       "      <td>7</td>\n",
       "    </tr>\n",
       "  </tbody>\n",
       "</table>\n",
       "</div>"
      ],
      "text/plain": [
       "   YY-MM  Airbnb  Booking.com\n",
       "0  12-01       1            4\n",
       "1  12-02       1            6\n",
       "2  12-03       2            6\n",
       "3  12-04       2            6\n",
       "4  12-05       2            7"
      ]
     },
     "execution_count": 29,
     "metadata": {},
     "output_type": "execute_result"
    }
   ],
   "source": [
    "kw_list = ['Airbnb','Booking.com']\n",
    "pytrend = TrendReq(hl='en-US', tz=360)\n",
    "pytrend.build_payload(kw_list , cat=0, timeframe='2012-01-01 2018-08-01', geo='TW', gprop='')\n",
    "pytrend.interest_over_time().get('Airbnb','Booking.com')\n",
    "preload = json.loads(pytrend.interest_over_time().to_json(orient='table'))['data']\n",
    "df = pandas.DataFrame(preload)\n",
    "df.head()\n",
    "\n",
    "x = len(df)\n",
    "c = []\n",
    "for i in range(x):\n",
    "    c.append(((df['date'][i])[2:7]))\n",
    "p = pandas.DataFrame(c,columns=['YY-MM'])\n",
    "\n",
    "dd = pandas.concat([p,df['Airbnb'],df['Booking.com']],axis=1)\n",
    "dd.head()"
   ]
  },
  {
   "cell_type": "markdown",
   "metadata": {},
   "source": [
    " "
   ]
  },
  {
   "cell_type": "markdown",
   "metadata": {},
   "source": [
    "Use the Matplotlib to transfer the data to graphs. And have control of graph styles via the pyplot module."
   ]
  },
  {
   "cell_type": "code",
   "execution_count": 34,
   "metadata": {},
   "outputs": [
    {
     "data": {
      "text/plain": [
       "<matplotlib.legend.Legend at 0x119954eb8>"
      ]
     },
     "execution_count": 34,
     "metadata": {},
     "output_type": "execute_result"
    },
    {
     "data": {
      "image/png": "[encoded data removed]",
      "text/plain": [
       "<Figure size 1440x432 with 1 Axes>"
      ]
     },
     "metadata": {},
     "output_type": "display_data"
    }
   ],
   "source": [
    "plt.figure(figsize=(20,6))\n",
    "\n",
    "plt.bar(dd['YY-MM'],dd['Airbnb'], width = 0.4,color='coral',label='Airbnb')\n",
    "plt.bar(dd['YY-MM'],dd['Booking.com'], width = 0.4,color='lightslategray',label='Booking.com')\n",
    "plt.xticks(rotation=90)\n",
    "\n",
    "plt.xlabel(\"Time\",fontsize = 15)\n",
    "plt.ylabel(\"SVI\",fontsize = 15)\n",
    "plt.title(\"Interest for Airbnb and Booking.com by Year-Month in Taiwan\",fontsize = 20)\n",
    "\n",
    "plt.legend()"
   ]
  },
  {
   "cell_type": "markdown",
   "metadata": {},
   "source": [
    "According to this chart , from 2012 , we can see the obvious rise of interest of people for Airbnb which platform pubished at 2008. Compared to the booking.com, Airbnb get more attractoin and interest from people on the Internet in Taiwan, but after 2017, it declines. It seems to effect by the events which the goverment of global identified Airbnb as illegal product . Based on this situation, maybe Airbnb will comes to a new type of ways to shpae their product , or keep decline and new accommodation company will appears in the future."
   ]
  },
  {
   "cell_type": "markdown",
   "metadata": {},
   "source": [
    "## 2. Explore the interest level of different region in Taiwan"
   ]
  },
  {
   "cell_type": "markdown",
   "metadata": {},
   "source": [
    "And this part will be figuring out the interest level of different region in Taiwan. To observe the difference, I use the interst_by_region function and have the word comes to  “Airbnb” and the geo to be “TW” and use the numpy module to generate the form.\n"
   ]
  },
  {
   "cell_type": "code",
   "execution_count": 31,
   "metadata": {},
   "outputs": [
    {
     "data": {
      "text/html": [
       "<div>\n",
       "<style scoped>\n",
       "    .dataframe tbody tr th:only-of-type {\n",
       "        vertical-align: middle;\n",
       "    }\n",
       "\n",
       "    .dataframe tbody tr th {\n",
       "        vertical-align: top;\n",
       "    }\n",
       "\n",
       "    .dataframe thead th {\n",
       "        text-align: right;\n",
       "    }\n",
       "</style>\n",
       "<table border=\"1\" class=\"dataframe\">\n",
       "  <thead>\n",
       "    <tr style=\"text-align: right;\">\n",
       "      <th></th>\n",
       "      <th>Airbnb</th>\n",
       "      <th>geoName</th>\n",
       "    </tr>\n",
       "  </thead>\n",
       "  <tbody>\n",
       "    <tr>\n",
       "      <th>0</th>\n",
       "      <td>56</td>\n",
       "      <td>Kaohsiung City</td>\n",
       "    </tr>\n",
       "    <tr>\n",
       "      <th>1</th>\n",
       "      <td>76</td>\n",
       "      <td>New Taipei City</td>\n",
       "    </tr>\n",
       "    <tr>\n",
       "      <th>2</th>\n",
       "      <td>59</td>\n",
       "      <td>Taichung City</td>\n",
       "    </tr>\n",
       "    <tr>\n",
       "      <th>3</th>\n",
       "      <td>57</td>\n",
       "      <td>Tainan City</td>\n",
       "    </tr>\n",
       "    <tr>\n",
       "      <th>4</th>\n",
       "      <td>100</td>\n",
       "      <td>Taipei City</td>\n",
       "    </tr>\n",
       "  </tbody>\n",
       "</table>\n",
       "</div>"
      ],
      "text/plain": [
       "   Airbnb          geoName\n",
       "0      56   Kaohsiung City\n",
       "1      76  New Taipei City\n",
       "2      59    Taichung City\n",
       "3      57      Tainan City\n",
       "4     100      Taipei City"
      ]
     },
     "execution_count": 31,
     "metadata": {},
     "output_type": "execute_result"
    }
   ],
   "source": [
    "kw_list = ['Airbnb']\n",
    "pytrend2 = TrendReq(hl='en-US', tz=360)\n",
    "pytrend2.build_payload(kw_list , cat=0, timeframe='2015-01-01 2018-08-01', geo='TW', gprop='')\n",
    "pytrend2.interest_over_time().get('Airbnb')\n",
    "\n",
    "\n",
    "pppreload = pytrend2.interest_by_region(resolution='COUNTRY')\n",
    "xb = json.loads(pytrend2.interest_by_region().to_json(orient='table'))['data']\n",
    "xbb = pandas.DataFrame(xb)\n",
    "xbb.head()"
   ]
  },
  {
   "cell_type": "markdown",
   "metadata": {},
   "source": [
    " "
   ]
  },
  {
   "cell_type": "markdown",
   "metadata": {},
   "source": [
    "Use the Matplotlib to transfer the upper data to graphs. And have control of graph styles via the pyplot module."
   ]
  },
  {
   "cell_type": "code",
   "execution_count": 35,
   "metadata": {},
   "outputs": [
    {
     "data": {
      "text/plain": [
       "Text(0.5,1,'The Interest Level of Different Region in Taiwan')"
      ]
     },
     "execution_count": 35,
     "metadata": {},
     "output_type": "execute_result"
    },
    {
     "data": {
      "image/png": "[encoded data removed]",
      "text/plain": [
       "<Figure size 1080x288 with 1 Axes>"
      ]
     },
     "metadata": {},
     "output_type": "display_data"
    }
   ],
   "source": [
    "plt.figure(figsize=(15,4))\n",
    "plt.grid([bool])\n",
    "plt.stem(xbb['geoName'],xbb['Airbnb'])\n",
    "plt.ylim(0,100)\n",
    "(markers, stemlines, baseline) = plt.stem(xbb['Airbnb'])\n",
    "plt.setp(markers, alpha=4, markersize=12, color=\"lightslategray\",markeredgecolor=\"lightcoral\", markeredgewidth=1.5 )\n",
    "plt.setp(stemlines, alpha=4,linestyle=\"-\", color=\"lightslategray\", linewidth=1.5 )\n",
    "plt.xticks()\n",
    "\n",
    "plt.xlabel(\"City\",fontsize = 10)\n",
    "plt.ylabel(\"SVI\",fontsize = 10)\n",
    "plt.title(\"The Interest Level of Different Region in Taiwan\")"
   ]
  },
  {
   "cell_type": "markdown",
   "metadata": {},
   "source": [
    "According to this chart,  we can see the SVI of Taipei City is higher than other cities in Taiwan. Taipei is knowns as capital of Taiwan. Be a international city, people in Taipei have higher acceptability and uses of new types of accommodaion than other cities. But the less SVI in other cities , it maybe means that the more space and ways \"Airbnb\" can challenge and try to broaden their market in Taiwan."
   ]
  },
  {
   "cell_type": "markdown",
   "metadata": {},
   "source": [
    "## 3.Observe what time people search the keyword most in a day. "
   ]
  },
  {
   "cell_type": "markdown",
   "metadata": {},
   "source": [
    "To observe what time people search the “Airbnb” most or least in 24-hrs a day,use the interest_over_time funtion and adjust the time limit to generate the form of SVI of different TC via numpy mudule"
   ]
  },
  {
   "cell_type": "code",
   "execution_count": 32,
   "metadata": {},
   "outputs": [
    {
     "data": {
      "text/html": [
       "<div>\n",
       "<style scoped>\n",
       "    .dataframe tbody tr th:only-of-type {\n",
       "        vertical-align: middle;\n",
       "    }\n",
       "\n",
       "    .dataframe tbody tr th {\n",
       "        vertical-align: top;\n",
       "    }\n",
       "\n",
       "    .dataframe thead th {\n",
       "        text-align: right;\n",
       "    }\n",
       "</style>\n",
       "<table border=\"1\" class=\"dataframe\">\n",
       "  <thead>\n",
       "    <tr style=\"text-align: right;\">\n",
       "      <th></th>\n",
       "      <th>date</th>\n",
       "      <th>Airbnb</th>\n",
       "    </tr>\n",
       "  </thead>\n",
       "  <tbody>\n",
       "    <tr>\n",
       "      <th>0</th>\n",
       "      <td>T00</td>\n",
       "      <td>43</td>\n",
       "    </tr>\n",
       "    <tr>\n",
       "      <th>1</th>\n",
       "      <td>T01</td>\n",
       "      <td>51</td>\n",
       "    </tr>\n",
       "    <tr>\n",
       "      <th>2</th>\n",
       "      <td>T02</td>\n",
       "      <td>48</td>\n",
       "    </tr>\n",
       "    <tr>\n",
       "      <th>3</th>\n",
       "      <td>T03</td>\n",
       "      <td>63</td>\n",
       "    </tr>\n",
       "    <tr>\n",
       "      <th>4</th>\n",
       "      <td>T04</td>\n",
       "      <td>68</td>\n",
       "    </tr>\n",
       "  </tbody>\n",
       "</table>\n",
       "</div>"
      ],
      "text/plain": [
       "  date  Airbnb\n",
       "0  T00      43\n",
       "1  T01      51\n",
       "2  T02      48\n",
       "3  T03      63\n",
       "4  T04      68"
      ]
     },
     "execution_count": 32,
     "metadata": {},
     "output_type": "execute_result"
    }
   ],
   "source": [
    "pytrend2.build_payload(kw_list , cat=0, timeframe='2018-08-01T00 2018-08-04T00', geo='TW', gprop='')\n",
    "pytrend2.interest_over_time().get('Airbnb')\n",
    "preload2 = json.loads(pytrend2.interest_over_time().to_json(orient='table'))['data']\n",
    "df2 = pandas.DataFrame(preload2)\n",
    "\n",
    "ccc= df2[:24]\n",
    "\n",
    "x2 = len(ccc)\n",
    "c2 = []\n",
    "for i in range(x2):\n",
    "    c2.append(((ccc['date'][i])[10:13]))\n",
    "p2 = pandas.DataFrame(c2,columns=['date'])\n",
    "dd2 = pandas.concat([p2,ccc['Airbnb']],axis=1)\n",
    "dd2.head()"
   ]
  },
  {
   "cell_type": "markdown",
   "metadata": {},
   "source": [
    " "
   ]
  },
  {
   "cell_type": "markdown",
   "metadata": {},
   "source": [
    "Use the Matplotlib to transfer the upper data to graphs. And have control of graph styles via the pyplot module."
   ]
  },
  {
   "cell_type": "code",
   "execution_count": 36,
   "metadata": {},
   "outputs": [
    {
     "data": {
      "text/plain": [
       "Text(0.5,1,'What Time People Search Most in A Day')"
      ]
     },
     "execution_count": 36,
     "metadata": {},
     "output_type": "execute_result"
    },
    {
     "data": {
      "image/png": "[encoded data removed]",
      "text/plain": [
       "<Figure size 1440x360 with 1 Axes>"
      ]
     },
     "metadata": {},
     "output_type": "display_data"
    }
   ],
   "source": [
    "plt.figure(figsize=(20,5))\n",
    "plt.grid([bool])\n",
    "\n",
    "x = dd2['date']\n",
    "y = dd2['Airbnb']\n",
    "\n",
    "plt.plot(x, y, color='steelblue', lw=2)\n",
    "plt.fill_between(x, 0, y, color='steelblue',alpha=0.2)\n",
    "\n",
    "plt.xlabel(\"Time\",fontsize = 15)\n",
    "plt.ylabel(\"SVI\",fontsize = 15)\n",
    "plt.title(\"What Time People Search Most in A Day\")"
   ]
  },
  {
   "cell_type": "markdown",
   "metadata": {},
   "source": [
    "Accordimg to this chart , we can see the number of TC16 higher than others, also TC08 and TC16 to TC20 is over 60 (SVI) , it probably means if you post some article or advertisement on social media or website at these time , maybe it can get more acctraction from people."
   ]
  }
 ],
 "metadata": {
  "kernelspec": {
   "display_name": "Python 3",
   "language": "python",
   "name": "python3"
  },
  "language_info": {
   "codemirror_mode": {
    "name": "ipython",
    "version": 3
   },
   "file_extension": ".py",
   "mimetype": "text/x-python",
   "name": "python",
   "nbconvert_exporter": "python",
   "pygments_lexer": "ipython3",
   "version": "3.6.6"
  }
 },
 "nbformat": 4,
 "nbformat_minor": 2
}
